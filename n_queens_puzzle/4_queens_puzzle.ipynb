{
 "cells": [
  {
   "cell_type": "code",
   "execution_count": 56,
   "metadata": {},
   "outputs": [],
   "source": [
    "def noConflicts(board, current, qindex, n=4):\n",
    "    # 水平方向にクイーンがかぶってないか確認\n",
    "    for j in range(current):\n",
    "        if board[qindex][j] == 1:\n",
    "            return False\n",
    "    \n",
    "    #  斜め上方向にクイーンがかぶってないか確認\n",
    "    k = 1\n",
    "    while qindex - k >= 0 and current - k >= 0:\n",
    "        if board[qindex - k][current - k] == 1:\n",
    "            return False\n",
    "        k += 1\n",
    "    \n",
    "    # 斜め下方向にクイーンがかぶってないか確認\n",
    "    k = 1\n",
    "    while qindex + k < n and current - k >= 0:\n",
    "        if board[qindex + k][current -k] == 1:\n",
    "            return False\n",
    "        k += 1\n",
    "    # クイーンがかぶってない\n",
    "    return True"
   ]
  },
  {
   "cell_type": "code",
   "execution_count": 57,
   "metadata": {},
   "outputs": [],
   "source": [
    "def FourQueens(n=4):\n",
    "    board = [\n",
    "        [0,0,0,0],\n",
    "        [0,0,0,0],\n",
    "        [0,0,0,0],\n",
    "        [0,0,0,0]]\n",
    "    \n",
    "    for i in range(n):\n",
    "        board[i][0] = 1\n",
    "        for j in range(n):\n",
    "            board[j][1] = 1\n",
    "            if noConflicts(board, 1, j, n):\n",
    "                for k in range(n):\n",
    "                    board[k][2] = 1\n",
    "                    if noConflicts(board, 2, k, n):\n",
    "                        for m in range(n):\n",
    "                            board[m][3] = 1\n",
    "                            if noConflicts(board, 3, m, n):\n",
    "                                print(board)\n",
    "                            board[m][3] = 0\n",
    "                    board[k][2] = 0\n",
    "            board[j][1] = 0\n",
    "        board[i][0] = 0\n",
    "    return"
   ]
  },
  {
   "cell_type": "code",
   "execution_count": 58,
   "metadata": {},
   "outputs": [
    {
     "name": "stdout",
     "output_type": "stream",
     "text": [
      "[[0, 0, 1, 0], [1, 0, 0, 0], [0, 0, 0, 1], [0, 1, 0, 0]]\n",
      "[[0, 1, 0, 0], [0, 0, 0, 1], [1, 0, 0, 0], [0, 0, 1, 0]]\n"
     ]
    }
   ],
   "source": [
    "FourQueens()"
   ]
  }
 ],
 "metadata": {
  "kernelspec": {
   "display_name": "Python 3",
   "language": "python",
   "name": "python3"
  },
  "language_info": {
   "codemirror_mode": {
    "name": "ipython",
    "version": 3
   },
   "file_extension": ".py",
   "mimetype": "text/x-python",
   "name": "python",
   "nbconvert_exporter": "python",
   "pygments_lexer": "ipython3",
   "version": "3.6.5"
  }
 },
 "nbformat": 4,
 "nbformat_minor": 2
}
